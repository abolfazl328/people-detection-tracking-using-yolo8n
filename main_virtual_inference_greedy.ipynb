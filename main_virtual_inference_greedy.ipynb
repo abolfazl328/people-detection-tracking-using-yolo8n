{
 "cells": [
  {
   "cell_type": "code",
   "execution_count": 1,
   "id": "initial_id",
   "metadata": {
    "ExecuteTime": {
     "end_time": "2025-09-27T11:40:53.043317Z",
     "start_time": "2025-09-27T11:40:50.533048Z"
    },
    "collapsed": true,
    "jupyter": {
     "outputs_hidden": true
    }
   },
   "outputs": [],
   "source": [
    "import cv2\n",
    "import os\n",
    "from ultralytics import YOLO\n",
    "from tqdm import tqdm\n",
    "import numpy as np\n",
    "from collections import defaultdict\n",
    "from filterpy.kalman import KalmanFilter\n",
    "from scipy.optimize import linear_sum_assignment # Import the Hungarian Algorithm"
   ]
  },
  {
   "cell_type": "markdown",
   "id": "16952202dc12b9cf",
   "metadata": {},
   "source": [
    "# --- New Kalman Tracker ---"
   ]
  },
  {
   "cell_type": "code",
   "execution_count": 94,
   "id": "2306560e99d44598",
   "metadata": {
    "ExecuteTime": {
     "end_time": "2025-09-20T22:33:32.650179Z",
     "start_time": "2025-09-20T22:33:32.646072Z"
    }
   },
   "outputs": [],
   "source": [
    "from filterpy.kalman import KalmanFilter"
   ]
  },
  {
   "cell_type": "code",
   "execution_count": 95,
   "id": "25639ff8a916cf9b",
   "metadata": {
    "ExecuteTime": {
     "end_time": "2025-09-20T22:33:32.839832Z",
     "start_time": "2025-09-20T22:33:32.825859Z"
    }
   },
   "outputs": [],
   "source": [
    "class KalmanTracker:\n",
    "    def __init__(self):\n",
    "        self.next_track_id = 0\n",
    "        self.tracks = {}\n",
    "\n",
    "    def update(self, boxes):\n",
    "        # Predict next state for all existing tracks\n",
    "        for track_id, track in self.tracks.items():\n",
    "            track['kf'].predict()\n",
    "            track['age'] += 1\n",
    "\n",
    "        # Match detections to existing tracks using IOU\n",
    "        matched_indices = []\n",
    "        if len(boxes) > 0 and len(self.tracks) > 0:\n",
    "            track_ids = list(self.tracks.keys())\n",
    "            track_boxes = np.array([t['kf'].x[:4, 0] for t in self.tracks.values()])\n",
    "            \n",
    "            # Simple greedy matching for demonstration\n",
    "            # In a real scenario, you'd use Hungarian algorithm\n",
    "            for i, box in enumerate(boxes):\n",
    "                max_iou = 0\n",
    "                best_match = -1\n",
    "                for j, track_box in enumerate(track_boxes):\n",
    "                    # -----------------\n",
    "                    # iou = self.iou(box, [track_box[0], track_box[1], track_box[0]+track_box[2], track_box[1]+track_box[3]])\n",
    "                    # ----------------\n",
    "                    tx1 = track_box[0] - track_box[2] / 2.0\n",
    "                    ty1 = track_box[1] - track_box[3] / 2.0\n",
    "                    tx2 = track_box[0] + track_box[2] / 2.0\n",
    "                    ty2 = track_box[1] + track_box[3] / 2.0\n",
    "                    iou = self.iou(box, [tx1, ty1, tx2, ty2])\n",
    "                    # ------------------\n",
    "                    if iou > max_iou:\n",
    "                        max_iou = iou\n",
    "                        best_match = j\n",
    "                \n",
    "                if max_iou > IOU_THRESHOLD: # IOU threshold for matching\n",
    "                    track_id = track_ids[best_match]\n",
    "                    # ------------------------------\n",
    "                    # self.tracks[track_id]['kf'].update(np.array([box[0], box[1], box[2]-box[0], box[3]-box[1]]).reshape(4,1))\n",
    "                    # ---------------------------\n",
    "                    cx = (box[0] + box[2]) / 2.0\n",
    "                    cy = (box[1] + box[3]) / 2.0\n",
    "                    w = box[2] - box[0]\n",
    "                    h = box[3] - box[1]\n",
    "                    self.tracks[track_id]['kf'].update(np.array([cx, cy, w, h]).reshape(4, 1))\n",
    "                    # ----------------------------\n",
    "                    self.tracks[track_id]['age'] = 0\n",
    "                    self.tracks[track_id]['hits'] += 1\n",
    "                    matched_indices.append(i)\n",
    "\n",
    "        # Create new tracks for unmatched detections\n",
    "        for i, box in enumerate(boxes):\n",
    "            if i not in matched_indices:\n",
    "                kf = self.create_kalman_filter()\n",
    "                # ---------------------------\n",
    "                # kf.x[:4] = np.array([box[0], box[1], box[2]-box[0], box[3]-box[1]]).reshape(4,1)\n",
    "                # ----------------------------\n",
    "                cx = (box[0] + box[2]) / 2.0\n",
    "                cy = (box[1] + box[3]) / 2.0\n",
    "                w = box[2] - box[0]\n",
    "                h = box[3] - box[1]\n",
    "                kf.x[:4] = np.array([cx, cy, w, h]).reshape(4, 1)\n",
    "                # ----------------------------\n",
    "                self.tracks[self.next_track_id] = {'kf': kf, 'age': 0, 'hits': 1}\n",
    "                self.next_track_id += 1\n",
    "\n",
    "        # Remove old tracks that have not been seen for a while\n",
    "        dead_tracks = [track_id for track_id, track in self.tracks.items() if track['age'] > MAX_AGE]\n",
    "        for track_id in dead_tracks:\n",
    "            del self.tracks[track_id]\n",
    "\n",
    "        # Return active tracks\n",
    "        active_tracks = {}\n",
    "        for track_id, track in self.tracks.items():\n",
    "            if track['hits'] > MIN_HITS: # Require a few hits to be considered a stable track\n",
    "                pos = track['kf'].x\n",
    "                # ------------------\n",
    "                # active_tracks[track_id] = [pos[0,0], pos[1,0], pos[0,0]+pos[2,0], pos[1,0]+pos[3,0]]\n",
    "                #\n",
    "                cx, cy, w, h = pos[0, 0], pos[1, 0], pos[2, 0], pos[3, 0]\n",
    "                x1 = cx - w / 2.0\n",
    "                y1 = cy - h / 2.0\n",
    "                x2 = cx + w / 2.0\n",
    "                y2 = cy + h / 2.0\n",
    "                active_tracks[track_id] = [x1, y1, x2, y2]\n",
    "                #\n",
    "        return active_tracks\n",
    "\n",
    "    def create_kalman_filter(self):\n",
    "        kf = KalmanFilter(dim_x=8, dim_z=4)\n",
    "        kf.F = np.array([[1,0,0,0,1,0,0,0], [0,1,0,0,0,1,0,0], [0,0,1,0,0,0,1,0], [0,0,0,1,0,0,0,1],\n",
    "                         [0,0,0,0,1,0,0,0], [0,0,0,0,0,1,0,0], [0,0,0,0,0,0,1,0], [0,0,0,0,0,0,0,1]])\n",
    "        kf.H = np.array([[1,0,0,0,0,0,0,0], [0,1,0,0,0,0,0,0], [0,0,1,0,0,0,0,0], [0,0,0,1,0,0,0,0]])\n",
    "        kf.R *= 10.\n",
    "        kf.P *= 1000.\n",
    "        kf.Q *= 0.01\n",
    "        return kf\n",
    "\n",
    "    def iou(self, bbox1, bbox2):\n",
    "        x1_1, y1_1, x2_1, y2_1 = bbox1\n",
    "        x1_2, y1_2, x2_2, y2_2 = bbox2\n",
    "        \n",
    "        xi1 = max(x1_1, x1_2)\n",
    "        yi1 = max(y1_1, y1_2)\n",
    "        xi2 = min(x2_1, x2_2)\n",
    "        yi2 = min(y2_1, y2_2)\n",
    "        inter_area = max(0, xi2 - xi1) * max(0, yi2 - yi1)\n",
    "\n",
    "        box1_area = (x2_1 - x1_1) * (y2_1 - y1_1)\n",
    "        box2_area = (x2_2 - x1_2) * (y2_2 - y1_2)\n",
    "        union_area = box1_area + box2_area - inter_area\n",
    "        \n",
    "        return inter_area / union_area if union_area != 0 else 0\n"
   ]
  },
  {
   "cell_type": "markdown",
   "id": "1102bf57efffc434",
   "metadata": {},
   "source": [
    "# --- CONFIGURATION ---"
   ]
  },
  {
   "cell_type": "code",
   "execution_count": 96,
   "id": "a2525576910ccafa",
   "metadata": {
    "ExecuteTime": {
     "end_time": "2025-09-20T22:33:33.125323Z",
     "start_time": "2025-09-20T22:33:33.121678Z"
    }
   },
   "outputs": [],
   "source": [
    "MODEL_PATH = './kfold_runs/fold_v1_3/weights/best.pt'\n",
    "INPUT_VIDEO_PATH = './input.mp4'\n",
    "OUTPUT_VIDEO_PATH = './greedy_outputs/v2_fold3_v1_0-30_0-05_15_30.mp4'"
   ]
  },
  {
   "cell_type": "code",
   "execution_count": 97,
   "id": "7f56b6a2f4ac0955",
   "metadata": {
    "ExecuteTime": {
     "end_time": "2025-09-20T22:33:34.309576Z",
     "start_time": "2025-09-20T22:33:34.306725Z"
    }
   },
   "outputs": [],
   "source": [
    "ZONE = np.array([[100, 500], [800, 500], [450, 200]], np.int32)\n",
    "CONF_THRESHOLD = 0.3\n",
    "IOU_THRESHOLD = 0.05\n",
    "MIN_HITS = 15\n",
    "MAX_AGE = 10"
   ]
  },
  {
   "cell_type": "markdown",
   "id": "a69b8b6b18b3f3c",
   "metadata": {},
   "source": [
    "# --- INITIALIZATION ---"
   ]
  },
  {
   "cell_type": "code",
   "execution_count": 98,
   "id": "ead28e3119a8698e",
   "metadata": {
    "ExecuteTime": {
     "end_time": "2025-09-20T22:33:35.958515Z",
     "start_time": "2025-09-20T22:33:35.898687Z"
    }
   },
   "outputs": [],
   "source": [
    "model = YOLO(MODEL_PATH)\n",
    "tracker = KalmanTracker() # Use the new tracker\n",
    "cap = cv2.VideoCapture(INPUT_VIDEO_PATH)\n",
    "width = int(cap.get(cv2.CAP_PROP_FRAME_WIDTH)); height = int(cap.get(cv2.CAP_PROP_FRAME_HEIGHT)); fps = int(cap.get(cv2.CAP_PROP_FPS))\n",
    "fourcc = cv2.VideoWriter_fourcc(*'mp4v'); out = cv2.VideoWriter(OUTPUT_VIDEO_PATH, fourcc, fps, (width, height))\n",
    "person_counter = 0; frames_inside_zone = defaultdict(int)\n"
   ]
  },
  {
   "cell_type": "markdown",
   "id": "f8327f818888d8f6",
   "metadata": {},
   "source": [
    "# --- MAIN PROCESSING LOOP ---"
   ]
  },
  {
   "cell_type": "code",
   "execution_count": 99,
   "id": "2d333100c4755884",
   "metadata": {
    "ExecuteTime": {
     "end_time": "2025-09-20T22:33:56.656596Z",
     "start_time": "2025-09-20T22:33:36.608640Z"
    }
   },
   "outputs": [
    {
     "name": "stderr",
     "output_type": "stream",
     "text": [
      "Processing with Kalman Tracker: 100%|██████████| 298/298 [00:20<00:00, 14.87it/s]\n"
     ]
    }
   ],
   "source": [
    "with tqdm(total=int(cap.get(cv2.CAP_PROP_FRAME_COUNT)), desc=\"Processing with Kalman Tracker\") as pbar:\n",
    "    while cap.isOpened():\n",
    "        success, frame = cap.read()\n",
    "        if not success: break\n",
    "\n",
    "        # results = model(frame, verbose=False, classes=[0], conf=CONF_THRESHOLD)\n",
    "        results = model(frame, verbose=False, classes=[0], conf=CONF_THRESHOLD, iou=IOU_THRESHOLD) # New line\n",
    "\n",
    "        boxes = results[0].boxes.xyxy.cpu().numpy()\n",
    "        \n",
    "        tracked_objects = tracker.update(boxes)\n",
    "\n",
    "        for object_id, box in tracked_objects.items():\n",
    "            x1, y1, x2, y2 = map(int, box)\n",
    "            \n",
    "            cv2.rectangle(frame, (x1, y1), (x2, y2), (0, 255, 0), 2)\n",
    "            cv2.putText(frame, f'ID: {object_id}', (x1, y1 - 10), cv2.FONT_HERSHEY_SIMPLEX, 0.5, (0, 255, 0), 2)\n",
    "            \n",
    "            footpoint = (int((x1 + x2) / 2), y2)\n",
    "            is_inside = cv2.pointPolygonTest(ZONE, footpoint, False) >= 0\n",
    "\n",
    "            if is_inside:\n",
    "                frames_inside_zone[object_id] += 1\n",
    "                if frames_inside_zone[object_id] == 10: person_counter += 1\n",
    "            else:\n",
    "                frames_inside_zone[object_id] = 0\n",
    "\n",
    "        cv2.polylines(frame, [ZONE], isClosed=True, color=(255, 0, 0), thickness=2)\n",
    "        cv2.putText(frame, f'Count: {person_counter}', (50, 50), cv2.FONT_HERSHEY_SIMPLEX, 1.5, (0, 0, 255), 3)\n",
    "        out.write(frame); pbar.update(1)\n"
   ]
  },
  {
   "cell_type": "markdown",
   "id": "8438ce08cd07c026",
   "metadata": {},
   "source": [
    "# --- CLEANUP ---"
   ]
  },
  {
   "cell_type": "code",
   "execution_count": 100,
   "id": "5ab60fff035a3866",
   "metadata": {
    "ExecuteTime": {
     "end_time": "2025-09-20T22:33:56.666632Z",
     "start_time": "2025-09-20T22:33:56.662737Z"
    }
   },
   "outputs": [
    {
     "name": "stdout",
     "output_type": "stream",
     "text": [
      "Processing complete. Video saved to: ./fold5_results/output_greedy_fold3_v3_0-30_0-05_15_30.mp4\n"
     ]
    }
   ],
   "source": [
    "cap.release(); out.release()\n",
    "print(f\"Processing complete. Video saved to: {OUTPUT_VIDEO_PATH}\")"
   ]
  },
  {
   "cell_type": "code",
   "execution_count": 92,
   "id": "49031ede743052e2",
   "metadata": {
    "ExecuteTime": {
     "end_time": "2025-09-20T22:30:58.151326Z",
     "start_time": "2025-09-20T22:30:58.149208Z"
    }
   },
   "outputs": [],
   "source": []
  }
 ],
 "metadata": {
  "kernelspec": {
   "display_name": "Python 3 (ipykernel)",
   "language": "python",
   "name": "python3"
  },
  "language_info": {
   "codemirror_mode": {
    "name": "ipython",
    "version": 3
   },
   "file_extension": ".py",
   "mimetype": "text/x-python",
   "name": "python",
   "nbconvert_exporter": "python",
   "pygments_lexer": "ipython3",
   "version": "3.10.12"
  }
 },
 "nbformat": 4,
 "nbformat_minor": 5
}
