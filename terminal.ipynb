{
 "cells": [
  {
   "cell_type": "code",
   "id": "initial_id",
   "metadata": {
    "collapsed": true,
    "ExecuteTime": {
     "end_time": "2025-09-27T10:08:07.281030Z",
     "start_time": "2025-09-27T10:08:06.284406Z"
    }
   },
   "source": "!python process_people_tracking.py",
   "outputs": [
    {
     "name": "stdout",
     "output_type": "stream",
     "text": [
      "Parsing annotations.xml...\r\n",
      "Reading Tracks: 100%|████████████████████████| 45/45 [00:00<00:00, 26806.37it/s]\r\n",
      "Found annotations for 41 frames.\r\n",
      "Creating YOLO formatted dataset...\r\n",
      "Processing Frames: 100%|████████████████████████| 41/41 [00:00<00:00, 65.20it/s]\r\n",
      "\r\n",
      "Processing complete. New dataset is in: ./datasets/yolo_people_tracking_dataset\r\n"
     ]
    }
   ],
   "execution_count": 2
  },
  {
   "metadata": {
    "ExecuteTime": {
     "end_time": "2025-09-27T10:10:09.792594Z",
     "start_time": "2025-09-27T10:10:09.257849Z"
    }
   },
   "cell_type": "code",
   "source": "!python flip_dataset.py",
   "id": "29aa49861a4476a",
   "outputs": [
    {
     "name": "stdout",
     "output_type": "stream",
     "text": [
      "Creating directories for the flipped dataset...\r\n",
      "Flipping dataset: 100%|████████████████████████| 41/41 [00:00<00:00, 138.31it/s]\r\n",
      "\r\n",
      "Flipped dataset creation complete!\r\n"
     ]
    }
   ],
   "execution_count": 3
  },
  {
   "metadata": {
    "ExecuteTime": {
     "end_time": "2025-09-27T10:21:13.612709Z",
     "start_time": "2025-09-27T10:21:13.366408Z"
    }
   },
   "cell_type": "code",
   "source": "!python combine_datasets.py",
   "id": "ab6ce908f75e5a9",
   "outputs": [
    {
     "name": "stdout",
     "output_type": "stream",
     "text": [
      "Creating final combined dataset directory at: ./datasets/yolo_human_detection_final_dataset\r\n",
      "Copying images from ./datasets/yolo_flipped_dataset: 100%|█| 41/41 [00:00<00:00,\r\n",
      "Copying labels from ./datasets/yolo_flipped_dataset: 100%|█| 41/41 [00:00<00:00,\r\n",
      "Copying images from ./datasets/yolo_people_detection_dataset: 100%|█| 41/41 [00:\r\n",
      "Copying labels from ./datasets/yolo_people_detection_dataset: 100%|█| 41/41 [00:\r\n",
      "Copying images from ./datasets/rotated_flipped_people_detection_dataset: 100%|█|\r\n",
      "Copying labels from ./datasets/rotated_flipped_people_detection_dataset: 100%|█|\r\n",
      "\r\n",
      "All datasets have been combined successfully!\r\n"
     ]
    }
   ],
   "execution_count": 4
  },
  {
   "metadata": {
    "ExecuteTime": {
     "end_time": "2025-09-27T11:24:48.268612Z",
     "start_time": "2025-09-27T11:22:24.127238Z"
    }
   },
   "cell_type": "code",
   "source": "!python kfold_training.py",
   "id": "162af3f9e033270c",
   "outputs": [
    {
     "name": "stdout",
     "output_type": "stream",
     "text": [
      "===== FOLD 1/5 =====\r\n",
      "New https://pypi.org/project/ultralytics/8.3.203 available 😃 Update with 'pip install -U ultralytics'\r\n",
      "Ultralytics 8.3.193 🚀 Python-3.10.12 torch-2.8.0+cu128 CUDA:0 (NVIDIA GeForce GTX 1650 with Max-Q Design, 3904MiB)\r\n",
      "\u001B[34m\u001B[1mengine/trainer: \u001B[0magnostic_nms=False, amp=True, augment=False, auto_augment=randaugment, batch=16, bgr=0.0, box=7.5, cache=False, cfg=None, classes=None, close_mosaic=10, cls=0.5, conf=None, copy_paste=0.0, copy_paste_mode=flip, cos_lr=False, cutmix=0.0, data=./kfold_v1_fold_1/data.yaml, degrees=0.0, deterministic=True, device=None, dfl=1.5, dnn=False, dropout=0.0, dynamic=False, embed=None, epochs=50, erasing=0.4, exist_ok=False, fliplr=0.5, flipud=0.0, format=torchscript, fraction=1.0, freeze=None, half=False, hsv_h=0.015, hsv_s=0.7, hsv_v=0.4, imgsz=640, int8=False, iou=0.7, keras=False, kobj=1.0, line_width=None, lr0=0.01, lrf=0.01, mask_ratio=4, max_det=300, mixup=0.0, mode=train, model=yolov8n.pt, momentum=0.937, mosaic=1.0, multi_scale=False, name=fold_v1_1, nbs=64, nms=False, opset=None, optimize=False, optimizer=auto, overlap_mask=True, patience=100, perspective=0.0, plots=True, pose=12.0, pretrained=True, profile=False, project=kfold_runs, rect=False, resume=False, retina_masks=False, save=True, save_conf=False, save_crop=False, save_dir=/mnt/1b6d7bea-fc84-4d11-9cf7-c534fa9fcdb8/arash/PycharmProjects/yolo_project/yolo/kfold_runs/fold_v1_1, save_frames=False, save_json=False, save_period=-1, save_txt=False, scale=0.5, seed=0, shear=0.0, show=False, show_boxes=True, show_conf=True, show_labels=True, simplify=True, single_cls=False, source=None, split=val, stream_buffer=False, task=detect, time=None, tracker=botsort.yaml, translate=0.1, val=True, verbose=True, vid_stride=1, visualize=False, warmup_bias_lr=0.1, warmup_epochs=3.0, warmup_momentum=0.8, weight_decay=0.0005, workers=8, workspace=None\r\n",
      "Overriding model.yaml nc=80 with nc=1\r\n",
      "\r\n",
      "                   from  n    params  module                                       arguments                     \r\n",
      "  0                  -1  1       464  ultralytics.nn.modules.conv.Conv             [3, 16, 3, 2]                 \r\n",
      "  1                  -1  1      4672  ultralytics.nn.modules.conv.Conv             [16, 32, 3, 2]                \r\n",
      "  2                  -1  1      7360  ultralytics.nn.modules.block.C2f             [32, 32, 1, True]             \r\n",
      "  3                  -1  1     18560  ultralytics.nn.modules.conv.Conv             [32, 64, 3, 2]                \r\n",
      "  4                  -1  2     49664  ultralytics.nn.modules.block.C2f             [64, 64, 2, True]             \r\n",
      "  5                  -1  1     73984  ultralytics.nn.modules.conv.Conv             [64, 128, 3, 2]               \r\n",
      "  6                  -1  2    197632  ultralytics.nn.modules.block.C2f             [128, 128, 2, True]           \r\n",
      "  7                  -1  1    295424  ultralytics.nn.modules.conv.Conv             [128, 256, 3, 2]              \r\n",
      "  8                  -1  1    460288  ultralytics.nn.modules.block.C2f             [256, 256, 1, True]           \r\n",
      "  9                  -1  1    164608  ultralytics.nn.modules.block.SPPF            [256, 256, 5]                 \r\n",
      " 10                  -1  1         0  torch.nn.modules.upsampling.Upsample         [None, 2, 'nearest']          \r\n",
      " 11             [-1, 6]  1         0  ultralytics.nn.modules.conv.Concat           [1]                           \r\n",
      " 12                  -1  1    148224  ultralytics.nn.modules.block.C2f             [384, 128, 1]                 \r\n",
      " 13                  -1  1         0  torch.nn.modules.upsampling.Upsample         [None, 2, 'nearest']          \r\n",
      " 14             [-1, 4]  1         0  ultralytics.nn.modules.conv.Concat           [1]                           \r\n",
      " 15                  -1  1     37248  ultralytics.nn.modules.block.C2f             [192, 64, 1]                  \r\n",
      " 16                  -1  1     36992  ultralytics.nn.modules.conv.Conv             [64, 64, 3, 2]                \r\n",
      " 17            [-1, 12]  1         0  ultralytics.nn.modules.conv.Concat           [1]                           \r\n",
      " 18                  -1  1    123648  ultralytics.nn.modules.block.C2f             [192, 128, 1]                 \r\n",
      " 19                  -1  1    147712  ultralytics.nn.modules.conv.Conv             [128, 128, 3, 2]              \r\n",
      " 20             [-1, 9]  1         0  ultralytics.nn.modules.conv.Concat           [1]                           \r\n",
      " 21                  -1  1    493056  ultralytics.nn.modules.block.C2f             [384, 256, 1]                 \r\n",
      " 22        [15, 18, 21]  1    751507  ultralytics.nn.modules.head.Detect           [1, [64, 128, 256]]           \r\n",
      "Model summary: 129 layers, 3,011,043 parameters, 3,011,027 gradients, 8.2 GFLOPs\r\n",
      "\r\n",
      "Transferred 319/355 items from pretrained weights\r\n",
      "Freezing layer 'model.22.dfl.conv.weight'\r\n",
      "WARNING ⚠️ \u001B[34m\u001B[1mAMP: \u001B[0mchecks failed ❌. AMP training on NVIDIA GeForce GTX 1650 with Max-Q Design GPU may cause NaN losses or zero-mAP results, so AMP will be disabled during training.\r\n",
      "\u001B[34m\u001B[1mtrain: \u001B[0mFast image access ✅ (ping: 0.0±0.0 ms, read: 4693.2±1080.1 MB/s, size: 152.8 KB)\r\n",
      "\u001B[K\u001B[34m\u001B[1mtrain: \u001B[0mScanning /mnt/1b6d7bea-fc84-4d11-9cf7-c534fa9fcdb8/arash/PycharmProjects/yolo_project/yolo/kfold_v1_fold_1/labels/train... 98 images, 0 backgrounds, 0 corrupt: 100% ━━━━━━━━━━━━ 98/98 2.2Kit/s 0.0s\r\n",
      "\u001B[34m\u001B[1mtrain: \u001B[0mNew cache created: /mnt/1b6d7bea-fc84-4d11-9cf7-c534fa9fcdb8/arash/PycharmProjects/yolo_project/yolo/kfold_v1_fold_1/labels/train.cache\r\n",
      "\u001B[34m\u001B[1mval: \u001B[0mFast image access ✅ (ping: 0.0±0.0 ms, read: 2895.9±1424.1 MB/s, size: 150.9 KB)\r\n",
      "\u001B[K\u001B[34m\u001B[1mval: \u001B[0mScanning /mnt/1b6d7bea-fc84-4d11-9cf7-c534fa9fcdb8/arash/PycharmProjects/yolo_project/yolo/kfold_v1_fold_1/labels/val... 25 images, 0 backgrounds, 0 corrupt: 100% ━━━━━━━━━━━━ 25/25 1.7Kit/s 0.0s\r\n",
      "\u001B[34m\u001B[1mval: \u001B[0mNew cache created: /mnt/1b6d7bea-fc84-4d11-9cf7-c534fa9fcdb8/arash/PycharmProjects/yolo_project/yolo/kfold_v1_fold_1/labels/val.cache\r\n",
      "Plotting labels to /mnt/1b6d7bea-fc84-4d11-9cf7-c534fa9fcdb8/arash/PycharmProjects/yolo_project/yolo/kfold_runs/fold_v1_1/labels.jpg... \r\n",
      "\u001B[34m\u001B[1moptimizer:\u001B[0m 'optimizer=auto' found, ignoring 'lr0=0.01' and 'momentum=0.937' and determining best 'optimizer', 'lr0' and 'momentum' automatically... \r\n",
      "\u001B[34m\u001B[1moptimizer:\u001B[0m AdamW(lr=0.002, momentum=0.9) with parameter groups 57 weight(decay=0.0), 64 weight(decay=0.0005), 63 bias(decay=0.0)\r\n",
      "Image sizes 640 train, 640 val\r\n",
      "Using 8 dataloader workers\r\n",
      "Logging results to \u001B[1m/mnt/1b6d7bea-fc84-4d11-9cf7-c534fa9fcdb8/arash/PycharmProjects/yolo_project/yolo/kfold_runs/fold_v1_1\u001B[0m\r\n",
      "Starting training for 50 epochs...\r\n",
      "\r\n",
      "      Epoch    GPU_mem   box_loss   cls_loss   dfl_loss  Instances       Size\r\n",
      "WARNING ⚠️ CUDA OutOfMemoryError in TaskAlignedAssigner, using CPU\r\n",
      "\u001B[K       1/50      2.85G      1.378      3.542      1.063       1242        640: 0% ──────────── 0/7  2.7sWARNING ⚠️ CUDA OutOfMemoryError in TaskAlignedAssigner, using CPU\r\n",
      "\u001B[K       1/50      3.48G      1.338      3.528      1.061       1083        640: 14% ━╸────────── 1/7 0.1it/s 4.8s<40.6sWARNING ⚠️ CUDA OutOfMemoryError in TaskAlignedAssigner, using CPU\r\n",
      "\u001B[K       1/50      3.48G      1.317      3.515      1.052       1017        640: 29% ━━━───────── 2/7 0.3it/s 6.7s<19.2sWARNING ⚠️ CUDA OutOfMemoryError in TaskAlignedAssigner, using CPU\r\n",
      "\u001B[K       1/50      2.91G      1.307      3.503      1.052       1209        640: 43% ━━━━━─────── 3/7 0.4it/s 8.4s<11.3sWARNING ⚠️ CUDA OutOfMemoryError in TaskAlignedAssigner, using CPU\r\n",
      "\u001B[K       1/50      3.39G      1.275      3.473      1.042       1063        640: 57% ━━━━━━╸───── 4/7 0.4it/s 10.1s<7.0sWARNING ⚠️ CUDA OutOfMemoryError in TaskAlignedAssigner, using CPU\r\n",
      "\u001B[K       1/50      3.57G      1.216       3.37      1.026        106        640: 100% ━━━━━━━━━━━━ 7/7 0.6it/s 12.2s0.9s\r\n",
      "\u001B[K                 Class     Images  Instances      Box(P          R      mAP50  mAP50-95): 100% ━━━━━━━━━━━━ 1/1 2.4it/s 0.4s\r\n",
      "                   all         25       1062      0.122      0.862      0.198      0.116\r\n",
      "\r\n",
      "      Epoch    GPU_mem   box_loss   cls_loss   dfl_loss  Instances       Size\r\n",
      "WARNING ⚠️ CUDA OutOfMemoryError in TaskAlignedAssigner, using CPU\r\n",
      "\u001B[K       2/50      3.43G      1.197      2.892     0.9696       1022        640: 0% ──────────── 0/7  1.9sWARNING ⚠️ CUDA OutOfMemoryError in TaskAlignedAssigner, using CPU\r\n",
      "\u001B[K       2/50      3.57G      1.207      2.846     0.9634       1317        640: 14% ━╸────────── 1/7 0.2it/s 3.5s<32.9sWARNING ⚠️ CUDA OutOfMemoryError in TaskAlignedAssigner, using CPU\r\n",
      "\u001B[K       2/50      3.57G      1.176      2.735     0.9483       1097        640: 29% ━━━───────── 2/7 0.3it/s 5.2s<16.2sWARNING ⚠️ CUDA OutOfMemoryError in TaskAlignedAssigner, using CPU\r\n",
      "\u001B[K       2/50      3.57G        1.2       2.66      0.948       1303        640: 43% ━━━━━─────── 3/7 0.4it/s 6.9s<10.1sWARNING ⚠️ CUDA OutOfMemoryError in TaskAlignedAssigner, using CPU\r\n",
      "\u001B[K       2/50      3.57G      1.206      2.566     0.9498       1094        640: 57% ━━━━━━╸───── 4/7 0.5it/s 8.5s<6.5sWARNING ⚠️ CUDA OutOfMemoryError in TaskAlignedAssigner, using CPU\r\n",
      "\u001B[K       2/50     0.545G      1.203      2.346     0.9536         79        640: 100% ━━━━━━━━━━━━ 7/7 0.7it/s 10.5s0.4s\r\n",
      "\u001B[K                 Class     Images  Instances      Box(P          R      mAP50  mAP50-95): 100% ━━━━━━━━━━━━ 1/1 2.8it/s 0.4s\r\n",
      "                   all         25       1062      0.132      0.931      0.249      0.139\r\n",
      "\r\n",
      "      Epoch    GPU_mem   box_loss   cls_loss   dfl_loss  Instances       Size\r\n",
      "WARNING ⚠️ CUDA OutOfMemoryError in TaskAlignedAssigner, using CPU\r\n",
      "\u001B[K       3/50      3.42G      1.194       1.58     0.9388       1046        640: 0% ──────────── 0/7  1.5sWARNING ⚠️ CUDA OutOfMemoryError in TaskAlignedAssigner, using CPU\r\n",
      "\u001B[K       3/50      3.52G      1.122      1.445     0.9229        840        640: 14% ━╸────────── 1/7 0.2it/s 2.8s<26.2sWARNING ⚠️ CUDA OutOfMemoryError in TaskAlignedAssigner, using CPU\r\n",
      "\u001B[K       3/50      3.52G      1.098      1.409     0.9215       1046        640: 29% ━━━───────── 2/7 0.4it/s 4.2s<13.3sWARNING ⚠️ CUDA OutOfMemoryError in TaskAlignedAssigner, using CPU\r\n",
      "\u001B[K       3/50      3.51G      1.079       1.34     0.9182        977        640: 43% ━━━━━─────── 3/7 0.5it/s 5.6s<8.5sWARNING ⚠️ CUDA OutOfMemoryError in TaskAlignedAssigner, using CPU\r\n",
      "\u001B[K       3/50      3.52G      1.078      1.309     0.9162       1030        640: 57% ━━━━━━╸───── 4/7 0.6it/s 7.0s<5.4sWARNING ⚠️ CUDA OutOfMemoryError in TaskAlignedAssigner, using CPU\r\n",
      "\u001B[K       3/50      3.56G      1.082      1.239     0.9162        118        640: 100% ━━━━━━━━━━━━ 7/7 0.7it/s 10.6s0.4s\r\n",
      "\u001B[K                 Class     Images  Instances      Box(P          R      mAP50  mAP50-95): 100% ━━━━━━━━━━━━ 1/1 2.6it/s 0.4s\r\n",
      "                   all         25       1062      0.971      0.595      0.858      0.518\r\n",
      "\r\n",
      "      Epoch    GPU_mem   box_loss   cls_loss   dfl_loss  Instances       Size\r\n",
      "WARNING ⚠️ CUDA OutOfMemoryError in TaskAlignedAssigner, using CPU\r\n",
      "\u001B[K       4/50      3.43G      1.049      1.035      0.892       1257        640: 0% ──────────── 0/7  1.6sWARNING ⚠️ CUDA OutOfMemoryError in TaskAlignedAssigner, using CPU\r\n",
      "\u001B[K       4/50      0.33G      1.054      1.025     0.9005       1024        640: 14% ━╸────────── 1/7 0.2it/s 3.2s<31.2sWARNING ⚠️ CUDA OutOfMemoryError in TaskAlignedAssigner, using CPU\r\n",
      "\u001B[K       4/50     0.859G      1.074      1.021      0.902       1378        640: 29% ━━━───────── 2/7 0.2it/s 7.4s<24.3sWARNING ⚠️ CUDA OutOfMemoryError in TaskAlignedAssigner, using CPU\r\n",
      "\u001B[K       4/50      3.54G      1.074     0.9917     0.9001       1098        640: 43% ━━━━━─────── 3/7 0.3it/s 9.3s<13.5sWARNING ⚠️ CUDA OutOfMemoryError in TaskAlignedAssigner, using CPU\r\n",
      "\u001B[K       4/50      3.53G      1.068     0.9762     0.8961       1247        640: 57% ━━━━━━╸───── 4/7 0.4it/s 10.9s<7.6sWARNING ⚠️ CUDA OutOfMemoryError in TaskAlignedAssigner, using CPU\r\n",
      "\u001B[K       4/50     0.584G      1.085      0.977     0.8974        159        640: 100% ━━━━━━━━━━━━ 7/7 0.6it/s 12.7s0.3s\r\n",
      "\u001B[K                 Class     Images  Instances      Box(P          R      mAP50  mAP50-95): 100% ━━━━━━━━━━━━ 1/1 2.6it/s 0.4s\r\n",
      "                   all         25       1062      0.985      0.633      0.907      0.586\r\n",
      "\r\n",
      "      Epoch    GPU_mem   box_loss   cls_loss   dfl_loss  Instances       Size\r\n",
      "WARNING ⚠️ CUDA OutOfMemoryError in TaskAlignedAssigner, using CPU\r\n",
      "\u001B[K       5/50      3.46G     0.9915     0.8806     0.8769       1235        640: 0% ──────────── 0/7  1.6sWARNING ⚠️ CUDA OutOfMemoryError in TaskAlignedAssigner, using CPU\r\n",
      "\u001B[K       5/50      3.46G     0.9753     0.8586     0.8788       1218        640: 14% ━╸────────── 1/7 0.2it/s 3.2s<30.9sWARNING ⚠️ CUDA OutOfMemoryError in TaskAlignedAssigner, using CPU\r\n",
      "\u001B[K       5/50      3.44G     0.9813     0.8464     0.8754       1191        640: 29% ━━━───────── 2/7 0.3it/s 4.7s<15.3sWARNING ⚠️ CUDA OutOfMemoryError in TaskAlignedAssigner, using CPU\r\n",
      "\u001B[K       5/50      3.44G     0.9746     0.8337     0.8775       1187        640: 43% ━━━━━─────── 3/7 0.4it/s 6.3s<9.6sWARNING ⚠️ CUDA OutOfMemoryError in TaskAlignedAssigner, using CPU\r\n",
      "\u001B[K       5/50      3.44G     0.9749     0.8309     0.8772       1279        640: 57% ━━━━━━╸───── 4/7 0.5it/s 7.9s<6.2sWARNING ⚠️ CUDA OutOfMemoryError in TaskAlignedAssigner, using CPU\r\n",
      "\u001B[K       5/50     0.582G     0.9677     0.8441     0.8841         79        640: 100% ━━━━━━━━━━━━ 7/7 0.7it/s 9.4s0.4s\r\n",
      "\u001B[K                 Class     Images  Instances      Box(P          R      mAP50  mAP50-95): 100% ━━━━━━━━━━━━ 1/1 2.7it/s 0.4s\r\n",
      "                   all         25       1062      0.935      0.866      0.943      0.682\r\n",
      "\r\n",
      "      Epoch    GPU_mem   box_loss   cls_loss   dfl_loss  Instances       Size\r\n",
      "WARNING ⚠️ CUDA OutOfMemoryError in TaskAlignedAssigner, using CPU\r\n",
      "\u001B[K       6/50      3.39G      1.032     0.8148     0.9043       1162        640: 0% ──────────── 0/7  1.4sWARNING ⚠️ CUDA OutOfMemoryError in TaskAlignedAssigner, using CPU\r\n",
      "\u001B[K       6/50      3.56G      1.021     0.7996     0.8947       1154        640: 14% ━╸────────── 1/7 0.2it/s 3.2s<37.0sWARNING ⚠️ CUDA OutOfMemoryError in TaskAlignedAssigner, using CPU\r\n",
      "\u001B[K       6/50      3.55G      1.012     0.7854     0.8914       1101        640: 29% ━━━───────── 2/7 0.2it/s 5.7s<21.4sWARNING ⚠️ CUDA OutOfMemoryError in TaskAlignedAssigner, using CPU\r\n",
      "\u001B[K       6/50      3.56G     0.9877      0.776      0.891       1095        640: 43% ━━━━━─────── 3/7 0.3it/s 7.4s<11.6sWARNING ⚠️ CUDA OutOfMemoryError in TaskAlignedAssigner, using CPU\r\n",
      "\u001B[K       6/50      3.55G     0.9796     0.7671     0.8861       1225        640: 57% ━━━━━━╸───── 4/7 0.4it/s 9.8s<8.2sWARNING ⚠️ CUDA OutOfMemoryError in TaskAlignedAssigner, using CPU\r\n",
      "\u001B[K       6/50     0.613G     0.9574     0.7553     0.8831        124        640: 100% ━━━━━━━━━━━━ 7/7 0.6it/s 11.4s0.4s\r\n",
      "\u001B[K                 Class     Images  Instances      Box(P          R      mAP50  mAP50-95): 100% ━━━━━━━━━━━━ 1/1 2.8it/s 0.4s\r\n",
      "                   all         25       1062      0.929      0.874      0.958      0.687\r\n",
      "\r\n",
      "      Epoch    GPU_mem   box_loss   cls_loss   dfl_loss  Instances       Size\r\n",
      "WARNING ⚠️ CUDA OutOfMemoryError in TaskAlignedAssigner, using CPU\r\n",
      "\u001B[K       7/50      3.52G     0.9613     0.7615     0.9033        999        640: 0% ──────────── 0/7  1.9sWARNING ⚠️ CUDA OutOfMemoryError in TaskAlignedAssigner, using CPU\r\n",
      "\u001B[K       7/50       3.5G     0.9101     0.7232     0.8814       1089        640: 14% ━╸────────── 1/7 0.2it/s 3.4s<30.2sWARNING ⚠️ CUDA OutOfMemoryError in TaskAlignedAssigner, using CPU\r\n",
      "\u001B[K       7/50       3.5G     0.8874     0.7107      0.881        911        640: 29% ━━━───────── 2/7 0.4it/s 4.7s<13.4sWARNING ⚠️ CUDA OutOfMemoryError in TaskAlignedAssigner, using CPU\r\n",
      "\u001B[K       7/50       3.5G      0.889     0.7005     0.8778       1095        640: 43% ━━━━━─────── 3/7 0.5it/s 6.1s<8.5sWARNING ⚠️ CUDA OutOfMemoryError in TaskAlignedAssigner, using CPU\r\n",
      "\u001B[K       7/50       3.5G     0.8893     0.6964     0.8772       1017        640: 57% ━━━━━━╸───── 4/7 0.5it/s 7.6s<5.6sWARNING ⚠️ CUDA OutOfMemoryError in TaskAlignedAssigner, using CPU\r\n",
      "\u001B[K       7/50      3.55G     0.8919     0.6957       0.88        109        640: 100% ━━━━━━━━━━━━ 7/7 0.8it/s 9.1s3.4s\r\n",
      "\u001B[K                 Class     Images  Instances      Box(P          R      mAP50  mAP50-95): 100% ━━━━━━━━━━━━ 1/1 3.0it/s 0.3s\r\n",
      "                   all         25       1062      0.949       0.93      0.977        0.7\r\n",
      "\r\n",
      "      Epoch    GPU_mem   box_loss   cls_loss   dfl_loss  Instances       Size\r\n",
      "WARNING ⚠️ CUDA OutOfMemoryError in TaskAlignedAssigner, using CPU\r\n",
      "\u001B[K       8/50      3.46G     0.8848     0.6661     0.8656       1105        640: 0% ──────────── 0/7  1.7sWARNING ⚠️ CUDA OutOfMemoryError in TaskAlignedAssigner, using CPU\r\n",
      "\u001B[K       8/50      3.47G     0.8923     0.6627     0.8631       1160        640: 14% ━╸────────── 1/7 0.2it/s 3.4s<32.4sWARNING ⚠️ CUDA OutOfMemoryError in TaskAlignedAssigner, using CPU\r\n",
      "\u001B[K       8/50      3.46G     0.8974     0.6637     0.8615       1259        640: 29% ━━━───────── 2/7 0.3it/s 5.0s<15.9sWARNING ⚠️ CUDA OutOfMemoryError in TaskAlignedAssigner, using CPU\r\n",
      "\u001B[K       8/50      3.47G     0.8878      0.663     0.8636       1118        640: 43% ━━━━━─────── 3/7 0.4it/s 6.6s<9.9sWARNING ⚠️ CUDA OutOfMemoryError in TaskAlignedAssigner, using CPU\r\n",
      "\u001B[K       8/50      3.47G     0.8954     0.6658     0.8634       1383        640: 57% ━━━━━━╸───── 4/7 0.5it/s 8.3s<6.6sWARNING ⚠️ CUDA OutOfMemoryError in TaskAlignedAssigner, using CPU\r\n",
      "\u001B[K       8/50      3.52G     0.8909     0.6693      0.863        161        640: 100% ━━━━━━━━━━━━ 7/7 0.7it/s 10.1s0.3s\r\n",
      "\u001B[K                 Class     Images  Instances      Box(P          R      mAP50  mAP50-95): 100% ━━━━━━━━━━━━ 1/1 3.1it/s 0.3s\r\n",
      "                   all         25       1062      0.934      0.921      0.979      0.757\r\n",
      "\r\n",
      "      Epoch    GPU_mem   box_loss   cls_loss   dfl_loss  Instances       Size\r\n",
      "WARNING ⚠️ CUDA OutOfMemoryError in TaskAlignedAssigner, using CPU\r\n",
      "\u001B[K       9/50      3.39G     0.8503     0.7692     0.8831        807        640: 0% ──────────── 0/7  1.5sWARNING ⚠️ CUDA OutOfMemoryError in TaskAlignedAssigner, using CPU\r\n",
      "\u001B[K       9/50      3.54G     0.8669     0.7033     0.8663       1277        640: 14% ━╸────────── 1/7 0.2it/s 3.1s<32.9sWARNING ⚠️ CUDA OutOfMemoryError in TaskAlignedAssigner, using CPU\r\n",
      "\u001B[K       9/50      3.54G     0.8792     0.7012     0.8718        899        640: 29% ━━━───────── 2/7 0.3it/s 4.6s<15.4sWARNING ⚠️ CUDA OutOfMemoryError in TaskAlignedAssigner, using CPU\r\n",
      "\u001B[K       9/50      3.54G     0.9094     0.6972     0.8725       1138        640: 43% ━━━━━─────── 3/7 0.4it/s 6.3s<9.9sWARNING ⚠️ CUDA OutOfMemoryError in TaskAlignedAssigner, using CPU\r\n",
      "\u001B[K       9/50      3.54G     0.8999     0.6859     0.8732       1035        640: 57% ━━━━━━╸───── 4/7 0.5it/s 8.1s<6.6sWARNING ⚠️ CUDA OutOfMemoryError in TaskAlignedAssigner, using CPU\r\n",
      "\u001B[K       9/50     0.594G     0.8828     0.6744      0.871        129        640: 100% ━━━━━━━━━━━━ 7/7 0.7it/s 9.8s0.4s\r\n",
      "\u001B[K                 Class     Images  Instances      Box(P          R      mAP50  mAP50-95): 100% ━━━━━━━━━━━━ 1/1 2.7it/s 0.4s\r\n",
      "                   all         25       1062       0.89      0.895      0.958      0.751\r\n",
      "\r\n",
      "      Epoch    GPU_mem   box_loss   cls_loss   dfl_loss  Instances       Size\r\n",
      "WARNING ⚠️ CUDA OutOfMemoryError in TaskAlignedAssigner, using CPU\r\n",
      "\u001B[K      10/50      3.43G     0.8776     0.6435     0.8544       1161        640: 0% ──────────── 0/7  1.6sWARNING ⚠️ CUDA OutOfMemoryError in TaskAlignedAssigner, using CPU\r\n",
      "\u001B[K      10/50      3.55G     0.8324     0.6378     0.8577        986        640: 14% ━╸────────── 1/7 0.2it/s 3.0s<29.0sWARNING ⚠️ CUDA OutOfMemoryError in TaskAlignedAssigner, using CPU\r\n",
      "\u001B[K      10/50      3.55G     0.8405     0.6378     0.8622       1139        640: 29% ━━━───────── 2/7 0.3it/s 4.7s<15.6sWARNING ⚠️ CUDA OutOfMemoryError in TaskAlignedAssigner, using CPU\r\n",
      "\u001B[K      10/50      3.54G     0.8372     0.6359     0.8622       1195        640: 43% ━━━━━─────── 3/7 0.4it/s 6.4s<10.0sWARNING ⚠️ CUDA OutOfMemoryError in TaskAlignedAssigner, using CPU\r\n",
      "\u001B[K      10/50      3.55G     0.8428     0.6358     0.8621       1229        640: 57% ━━━━━━╸───── 4/7 0.5it/s 8.1s<6.5sWARNING ⚠️ CUDA OutOfMemoryError in TaskAlignedAssigner, using CPU\r\n",
      "\u001B[K      10/50      0.59G     0.8879     0.6572     0.8654        233        640: 100% ━━━━━━━━━━━━ 7/7 0.7it/s 9.8s0.4s\r\n",
      "\u001B[K                 Class     Images  Instances      Box(P          R      mAP50  mAP50-95): 100% ━━━━━━━━━━━━ 1/1 2.8it/s 0.4s\r\n",
      "                   all         25       1062      0.923      0.948      0.977      0.734\r\n",
      "\r\n",
      "      Epoch    GPU_mem   box_loss   cls_loss   dfl_loss  Instances       Size\r\n",
      "WARNING ⚠️ CUDA OutOfMemoryError in TaskAlignedAssigner, using CPU\r\n",
      "\u001B[K      11/50      3.48G     0.8046     0.6296     0.8555       1123        640: 0% ──────────── 0/7  1.5sWARNING ⚠️ CUDA OutOfMemoryError in TaskAlignedAssigner, using CPU\r\n",
      "\u001B[K      11/50      3.48G     0.8181     0.6337     0.8596       1013        640: 14% ━╸────────── 1/7 0.2it/s 3.0s<29.2sWARNING ⚠️ CUDA OutOfMemoryError in TaskAlignedAssigner, using CPU\r\n",
      "\u001B[K      11/50      3.48G     0.8167     0.6336     0.8613       1012        640: 29% ━━━───────── 2/7 0.3it/s 4.6s<15.3sWARNING ⚠️ CUDA OutOfMemoryError in TaskAlignedAssigner, using CPU\r\n",
      "\u001B[K      11/50      3.48G       0.83     0.6384     0.8618       1122        640: 43% ━━━━━─────── 3/7 0.4it/s 6.3s<9.7sWARNING ⚠️ CUDA OutOfMemoryError in TaskAlignedAssigner, using CPU\r\n",
      "\u001B[K      11/50      3.48G     0.8198     0.6344     0.8599       1122        640: 57% ━━━━━━╸───── 4/7 0.5it/s 7.8s<6.1sWARNING ⚠️ CUDA OutOfMemoryError in TaskAlignedAssigner, using CPU\r\n",
      "\u001B[K      11/50      3.53G     0.8293      0.629     0.8594        161        640: 100% ━━━━━━━━━━━━ 7/7 0.7it/s 9.6s0.4s\r\n",
      "\u001B[K                 Class     Images  Instances      Box(P          R      mAP50  mAP50-95): 100% ━━━━━━━━━━━━ 1/1 2.8it/s 0.4s\r\n",
      "                   all         25       1062      0.942       0.95      0.983      0.805\r\n",
      "\r\n",
      "      Epoch    GPU_mem   box_loss   cls_loss   dfl_loss  Instances       Size\r\n",
      "WARNING ⚠️ CUDA OutOfMemoryError in TaskAlignedAssigner, using CPU\r\n",
      "^C\r\n",
      "\u001B[K: 0% ──────────── 0/7  0.9s\r\n",
      "Traceback (most recent call last):\r\n",
      "  File \"/mnt/1b6d7bea-fc84-4d11-9cf7-c534fa9fcdb8/arash/PycharmProjects/yolo_project/.venv/lib/python3.10/site-packages/ultralytics/utils/tal.py\", line 84, in forward\r\n",
      "    return self._forward(pd_scores, pd_bboxes, anc_points, gt_labels, gt_bboxes, mask_gt)\r\n",
      "  File \"/mnt/1b6d7bea-fc84-4d11-9cf7-c534fa9fcdb8/arash/PycharmProjects/yolo_project/.venv/lib/python3.10/site-packages/ultralytics/utils/tal.py\", line 111, in _forward\r\n",
      "    mask_pos, align_metric, overlaps = self.get_pos_mask(\r\n",
      "  File \"/mnt/1b6d7bea-fc84-4d11-9cf7-c534fa9fcdb8/arash/PycharmProjects/yolo_project/.venv/lib/python3.10/site-packages/ultralytics/utils/tal.py\", line 146, in get_pos_mask\r\n",
      "    mask_in_gts = self.select_candidates_in_gts(anc_points, gt_bboxes)\r\n",
      "  File \"/mnt/1b6d7bea-fc84-4d11-9cf7-c534fa9fcdb8/arash/PycharmProjects/yolo_project/.venv/lib/python3.10/site-packages/ultralytics/utils/tal.py\", line 298, in select_candidates_in_gts\r\n",
      "    bbox_deltas = torch.cat((xy_centers[None] - lt, rb - xy_centers[None]), dim=2).view(bs, n_boxes, n_anchors, -1)\r\n",
      "torch.OutOfMemoryError: CUDA out of memory. Tried to allocate 286.00 MiB. GPU 0 has a total capacity of 3.81 GiB of which 143.19 MiB is free. Including non-PyTorch memory, this process has 3.54 GiB memory in use. Of the allocated memory 3.33 GiB is allocated by PyTorch, and 113.31 MiB is reserved by PyTorch but unallocated. If reserved but unallocated memory is large try setting PYTORCH_CUDA_ALLOC_CONF=expandable_segments:True to avoid fragmentation.  See documentation for Memory Management  (https://pytorch.org/docs/stable/notes/cuda.html#environment-variables)\r\n",
      "\r\n",
      "During handling of the above exception, another exception occurred:\r\n",
      "\r\n",
      "Traceback (most recent call last):\r\n",
      "  File \"/mnt/1b6d7bea-fc84-4d11-9cf7-c534fa9fcdb8/arash/PycharmProjects/yolo_project/yolo/kfold_training.py\", line 55, in <module>\r\n",
      "    model.train(\r\n",
      "  File \"/mnt/1b6d7bea-fc84-4d11-9cf7-c534fa9fcdb8/arash/PycharmProjects/yolo_project/.venv/lib/python3.10/site-packages/ultralytics/engine/model.py\", line 801, in train\r\n",
      "    self.trainer.train()\r\n",
      "  File \"/mnt/1b6d7bea-fc84-4d11-9cf7-c534fa9fcdb8/arash/PycharmProjects/yolo_project/.venv/lib/python3.10/site-packages/ultralytics/engine/trainer.py\", line 230, in train\r\n",
      "    self._do_train(world_size)\r\n",
      "  File \"/mnt/1b6d7bea-fc84-4d11-9cf7-c534fa9fcdb8/arash/PycharmProjects/yolo_project/.venv/lib/python3.10/site-packages/ultralytics/engine/trainer.py\", line 407, in _do_train\r\n",
      "    loss, self.loss_items = self.model(batch)\r\n",
      "  File \"/mnt/1b6d7bea-fc84-4d11-9cf7-c534fa9fcdb8/arash/PycharmProjects/yolo_project/.venv/lib/python3.10/site-packages/torch/nn/modules/module.py\", line 1773, in _wrapped_call_impl\r\n",
      "    return self._call_impl(*args, **kwargs)\r\n",
      "  File \"/mnt/1b6d7bea-fc84-4d11-9cf7-c534fa9fcdb8/arash/PycharmProjects/yolo_project/.venv/lib/python3.10/site-packages/torch/nn/modules/module.py\", line 1784, in _call_impl\r\n",
      "    return forward_call(*args, **kwargs)\r\n",
      "  File \"/mnt/1b6d7bea-fc84-4d11-9cf7-c534fa9fcdb8/arash/PycharmProjects/yolo_project/.venv/lib/python3.10/site-packages/ultralytics/nn/tasks.py\", line 138, in forward\r\n",
      "    return self.loss(x, *args, **kwargs)\r\n",
      "  File \"/mnt/1b6d7bea-fc84-4d11-9cf7-c534fa9fcdb8/arash/PycharmProjects/yolo_project/.venv/lib/python3.10/site-packages/ultralytics/nn/tasks.py\", line 338, in loss\r\n",
      "    return self.criterion(preds, batch)\r\n",
      "  File \"/mnt/1b6d7bea-fc84-4d11-9cf7-c534fa9fcdb8/arash/PycharmProjects/yolo_project/.venv/lib/python3.10/site-packages/ultralytics/utils/loss.py\", line 272, in __call__\r\n",
      "    _, target_bboxes, target_scores, fg_mask, _ = self.assigner(\r\n",
      "  File \"/mnt/1b6d7bea-fc84-4d11-9cf7-c534fa9fcdb8/arash/PycharmProjects/yolo_project/.venv/lib/python3.10/site-packages/torch/nn/modules/module.py\", line 1773, in _wrapped_call_impl\r\n",
      "    return self._call_impl(*args, **kwargs)\r\n",
      "  File \"/mnt/1b6d7bea-fc84-4d11-9cf7-c534fa9fcdb8/arash/PycharmProjects/yolo_project/.venv/lib/python3.10/site-packages/torch/nn/modules/module.py\", line 1784, in _call_impl\r\n",
      "    return forward_call(*args, **kwargs)\r\n",
      "  File \"/mnt/1b6d7bea-fc84-4d11-9cf7-c534fa9fcdb8/arash/PycharmProjects/yolo_project/.venv/lib/python3.10/site-packages/torch/utils/_contextlib.py\", line 120, in decorate_context\r\n",
      "    return func(*args, **kwargs)\r\n",
      "  File \"/mnt/1b6d7bea-fc84-4d11-9cf7-c534fa9fcdb8/arash/PycharmProjects/yolo_project/.venv/lib/python3.10/site-packages/ultralytics/utils/tal.py\", line 89, in forward\r\n",
      "    result = self._forward(*cpu_tensors)\r\n",
      "  File \"/mnt/1b6d7bea-fc84-4d11-9cf7-c534fa9fcdb8/arash/PycharmProjects/yolo_project/.venv/lib/python3.10/site-packages/ultralytics/utils/tal.py\", line 111, in _forward\r\n",
      "    mask_pos, align_metric, overlaps = self.get_pos_mask(\r\n",
      "  File \"/mnt/1b6d7bea-fc84-4d11-9cf7-c534fa9fcdb8/arash/PycharmProjects/yolo_project/.venv/lib/python3.10/site-packages/ultralytics/utils/tal.py\", line 148, in get_pos_mask\r\n",
      "    align_metric, overlaps = self.get_box_metrics(pd_scores, pd_bboxes, gt_labels, gt_bboxes, mask_in_gts * mask_gt)\r\n",
      "  File \"/mnt/1b6d7bea-fc84-4d11-9cf7-c534fa9fcdb8/arash/PycharmProjects/yolo_project/.venv/lib/python3.10/site-packages/ultralytics/utils/tal.py\", line 187, in get_box_metrics\r\n",
      "    align_metric = bbox_scores.pow(self.alpha) * overlaps.pow(self.beta)\r\n",
      "KeyboardInterrupt\r\n"
     ]
    }
   ],
   "execution_count": 1
  },
  {
   "metadata": {
    "ExecuteTime": {
     "end_time": "2025-09-28T17:23:13.659011Z",
     "start_time": "2025-09-28T17:22:58.857633Z"
    }
   },
   "cell_type": "code",
   "source": "!python main_virtual_inference_greedy.py",
   "id": "48baec0183e9b99a",
   "outputs": [
    {
     "name": "stdout",
     "output_type": "stream",
     "text": [
      "Processing with Kalman Tracker: 100%|█████████| 298/298 [00:10<00:00, 27.75it/s]\r\n",
      "Processing complete. Video saved to: ./greedy_outputs/fold3_v1_0.3_0.05_15_10.mp4\r\n"
     ]
    }
   ],
   "execution_count": 1
  },
  {
   "metadata": {},
   "cell_type": "code",
   "outputs": [],
   "execution_count": null,
   "source": "",
   "id": "eb333a09df48c3bc"
  }
 ],
 "metadata": {
  "kernelspec": {
   "display_name": "Python 3",
   "language": "python",
   "name": "python3"
  },
  "language_info": {
   "codemirror_mode": {
    "name": "ipython",
    "version": 2
   },
   "file_extension": ".py",
   "mimetype": "text/x-python",
   "name": "python",
   "nbconvert_exporter": "python",
   "pygments_lexer": "ipython2",
   "version": "2.7.6"
  }
 },
 "nbformat": 4,
 "nbformat_minor": 5
}
